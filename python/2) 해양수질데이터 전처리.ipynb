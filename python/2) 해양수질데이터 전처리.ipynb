{
 "cells": [
  {
   "cell_type": "code",
   "execution_count": 4,
   "metadata": {},
   "outputs": [],
   "source": [
    "import numpy as np\n",
    "import pandas as pd\n",
    "from plotnine import *\n",
    "import matplotlib.pyplot as plt\n",
    "import warnings\n",
    "warnings.filterwarnings('ignore')\n",
    "\n",
    "plt.rcParams['font.family'] = 'NanumGothicCoding'\n",
    "plt.rcParams['axes.unicode_minus'] = False\n",
    "\n",
    "from glob import glob\n",
    "import re\n",
    "import math"
   ]
  },
  {
   "cell_type": "code",
   "execution_count": 5,
   "metadata": {},
   "outputs": [
    {
     "data": {
      "text/plain": [
       "['../../data/team/해양환경측정망_2015.xlsx',\n",
       " '../../data/team/해양환경측정망_2016.xlsx',\n",
       " '../../data/team/해양환경측정망_2017.xlsx',\n",
       " '../../data/team/해양환경측정망_2018.xlsx',\n",
       " '../../data/team/해양환경측정망_2019.xlsx']"
      ]
     },
     "execution_count": 5,
     "metadata": {},
     "output_type": "execute_result"
    }
   ],
   "source": [
    "file_list = []\n",
    "for i in range(2015,2020):\n",
    "    a = '../../data/team/해양환경측정망_'+str(i)+'.xlsx'\n",
    "    file_list.append(a)"
   ]
  },
  {
   "cell_type": "code",
   "execution_count": 6,
   "metadata": {},
   "outputs": [],
   "source": [
    "df = pd.read_excel('../../data/team/해양환경측정망_2019.xlsx',skiprows = 3, header=None)\n",
    "\n"
   ]
  },
  {
   "cell_type": "code",
   "execution_count": 7,
   "metadata": {},
   "outputs": [],
   "source": [
    "# 전처리 1\n",
    "key = ['2월','5월','8월','11월']\n",
    "con_data = pd.DataFrame()\n",
    "for i in file_list : \n",
    "    df_all = pd.read_excel(i, skiprows = 3, header=None, sheet_name=None)\n",
    "    for j in key:\n",
    "        # 월별시트 호출\n",
    "        data = df_all[j]\n",
    "        \n",
    "        # h제거\n",
    "        h= data[data[4].str.contains('H', na=False)]\n",
    "        h[4] = h[4].str.get(i=1)\n",
    "        h1 = h.index\n",
    "        for h_1 in range(len(h1)):\n",
    "            data.loc[h1[h_1],4] = h.loc[h1[h_1],4]\n",
    "            \n",
    "        # 항만제거\n",
    "        man = data[data[2].str.contains('항만', na=False)]\n",
    "        man[2] = man[2].str[8:-1]\n",
    "        h2 = man.index\n",
    "        for h_2 in h2:\n",
    "            data.loc[h_2,2] = man.loc[h_2,2]\n",
    "            \n",
    "        \n",
    "        # 1로 시작하는 지역의 인덱스 추출\n",
    "        index = data[data[4] == 1].index\n",
    "        \n",
    "        # index, st를 통해 빈칸채우기\n",
    "        for z in range(len(index)):  \n",
    "            insert_l = data.loc[index[z],:3]\n",
    "            \n",
    "            # 마지막인덱스 이외의 인덱스\n",
    "            if index[z] < index[len(index)-1]:\n",
    "                \n",
    "                # 항만 중 이중으로 열병합 되어있는 경우 0:3까지 nan처리됨\n",
    "                # nan값은 nan == nan 일시 Flase가 나옴\n",
    "                # 0:3까지의 값은 이전 인덱스의 값과 동일하기 때문에 이전 인덱스의 값 호출\n",
    "                if data.loc[index[z],3] != data.loc[index[z],3]:\n",
    "                    for k in range(index[z],index[z+1]):\n",
    "                        insert_l_1 = data.loc[index[z]-1,:3]\n",
    "                        data.loc[k,:3] = insert_l_1\n",
    "                else :\n",
    "                    # 1이 연속으로 붙어있는데 한 카테고리일 경우\n",
    "                    if data.loc[index[z],0] != data.loc[index[z],0]:\n",
    "                        insert_l_1 = data.loc[index[z]-1,:2]\n",
    "                        for a_1 in range(index[z],len(data)):\n",
    "                            data.loc[a_1,:2] = insert_l_1\n",
    "                    else:\n",
    "                        \n",
    "                        for a in range(index[z],index[z+1]):\n",
    "                            data.loc[a,:3] = insert_l\n",
    "                        \n",
    "            # 마지막 인덱스\n",
    "            else : \n",
    "                if data.loc[index[z],3] != data.loc[index[z],3]:\n",
    "                    for p in range(index[z],len(data)):\n",
    "                        insert_l_1 = data.loc[index[z]-1,:3]\n",
    "                        data.loc[p,:3] = insert_l_1\n",
    "                else:\n",
    "                    \n",
    "                    if data.loc[index[z],0] != data.loc[index[z],0]:\n",
    "                        insert_l_1 = data.loc[index[z]-1,:2]\n",
    "                        for e_1 in range(index[z],len(data)):\n",
    "                            data.loc[e_1,:2] = insert_l_1\n",
    "                    else: \n",
    "                        \n",
    "                        for e in range(index[z],len(data)):\n",
    "                            data.loc[e,:3] = insert_l\n",
    "                    \n",
    "                    \n",
    "        con_data = pd.concat([con_data, data])\n"
   ]
  },
  {
   "cell_type": "code",
   "execution_count": 8,
   "metadata": {},
   "outputs": [],
   "source": [
    "con_data.to_csv('../../data/team/해양환경측정망_합본_R.csv', index=False, encoding = 'ANSI')\n",
    "con_data.to_csv('../../data/team/해양환경측정망_합본.csv', index=False, encoding = 'utf-8')"
   ]
  },
  {
   "cell_type": "code",
   "execution_count": 9,
   "metadata": {},
   "outputs": [],
   "source": [
    "df = pd.read_csv('../../data/team/해양환경측정망_합본.csv', encoding='utf-8', engine='python')\n",
    "\n",
    "index_df = pd.read_excel('../../data/team/해양환경측정망_2019.xlsx')"
   ]
  },
  {
   "cell_type": "code",
   "execution_count": 10,
   "metadata": {},
   "outputs": [],
   "source": [
    "index_list = index_df.loc[0,:]\n",
    "for i in range(37):\n",
    "    df.rename(columns = {str(i): index_list[i]}, inplace = True)\n",
    "df = df[df['년'] >= 2017]\n",
    "df = df.dropna()"
   ]
  },
  {
   "cell_type": "code",
   "execution_count": 11,
   "metadata": {},
   "outputs": [],
   "source": [
    "# 구군추출\n",
    "# 먼저 연안명칭을 구군에 넣어 빈칸이 없게 만듬\n",
    "loc_list = df['연안명칭'].unique()\n",
    "list_name = ['연안','만','하구','만','.자란만','동안','남안','외안','호']\n",
    "df['구군'] = df['연안명칭']\n",
    "for j in list_name:\n",
    "    name_length = df['연안명칭'].str.find(j)\n",
    "    \n",
    "    # find는 값이 없으면 -1을 호출, 이를 안하면 중간에 에러발생\n",
    "    # -1인값은 먼저 넣어둔 연안명칭을 그대로 사용\n",
    "    for i in name_length.index :\n",
    "        if name_length[i] != -1:\n",
    "            df.loc[i,'구군'] = df.loc[i, '연안명칭'][0:name_length[i]]"
   ]
  },
  {
   "cell_type": "code",
   "execution_count": 12,
   "metadata": {},
   "outputs": [],
   "source": [
    "df.to_csv('../../data/team/해양환경측정망_합본_1_R.csv', index=False, encoding = 'ANSI')\n",
    "df.to_csv('../../data/team/해양환경측정망_합본_1.csv', index=False, encoding = 'utf-8')"
   ]
  },
  {
   "cell_type": "code",
   "execution_count": null,
   "metadata": {},
   "outputs": [],
   "source": [
    "df = pd.read_csv('../../data/team/해양환경측정망_합본_1.csv')\n",
    "\n",
    "# 로마자로 기제되어 있는 해수수질기준을 숫자로 변환\n",
    "class_list = df['해수수질기준'].unique()\n",
    "a = 1\n",
    "\n",
    "# 각 로마자를 가지는 인덱스번호를 추출한 뒤 이 값의 해수수질기준에 a값을 넣어줌\n",
    "for i in class_list:\n",
    "    index = df[df['해수수질기준']==i].index\n",
    "    df.loc[index,'해수수질기준']= a\n",
    "    a += 1\n",
    "    \n",
    "for i in range(len(df)):\n",
    "    if df.loc[i,'생태구역'] =='동 해':\n",
    "        df.loc[i,'생태구역'] = '동해'"
   ]
  },
  {
   "cell_type": "code",
   "execution_count": 14,
   "metadata": {},
   "outputs": [],
   "source": [
    "# 형식이 다른  15, 16 년도 자료를 병합\n",
    "df1 = pd.read_csv('../../data/team/해양환경측정망_15,16.csv')"
   ]
  },
  {
   "cell_type": "code",
   "execution_count": 15,
   "metadata": {},
   "outputs": [],
   "source": [
    "df = pd.concat([df,df1])\n",
    "# 자료기입상 발생한 오타같음 7,70 -> 7.70\n",
    "df.iloc[7952,11] = 7.90\n",
    "\n",
    "df.to_csv('../../data/team/해양환경측정망_합본_2_R.csv', index=False, encoding = 'ANSI')\n",
    "df.to_csv('../../data/team/해양환경측정망_합본_2.csv', index=False, encoding = 'utf-8')"
   ]
  },
  {
   "cell_type": "code",
   "execution_count": null,
   "metadata": {},
   "outputs": [],
   "source": []
  }
 ],
 "metadata": {
  "kernelspec": {
   "display_name": "Python 3",
   "language": "python",
   "name": "python3"
  },
  "language_info": {
   "codemirror_mode": {
    "name": "ipython",
    "version": 3
   },
   "file_extension": ".py",
   "mimetype": "text/x-python",
   "name": "python",
   "nbconvert_exporter": "python",
   "pygments_lexer": "ipython3",
   "version": "3.7.6"
  }
 },
 "nbformat": 4,
 "nbformat_minor": 4
}
