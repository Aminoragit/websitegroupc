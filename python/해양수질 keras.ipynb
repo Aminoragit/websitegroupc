{
 "cells": [
  {
   "cell_type": "code",
   "execution_count": 2,
   "metadata": {},
   "outputs": [
    {
     "name": "stderr",
     "output_type": "stream",
     "text": [
      "Using TensorFlow backend.\n"
     ]
    }
   ],
   "source": [
    "import warnings\n",
    "warnings.filterwarnings('ignore')\n",
    "\n",
    "%matplotlib inline\n",
    "import numpy as np\n",
    "import pandas as pd\n",
    "import matplotlib.pyplot as plt\n",
    "plt.rcParams['font.family'] = 'NanumGothicCoding'\n",
    "plt.rcParams['axes.unicode_minus'] = False\n",
    "\n",
    "import keras\n",
    "from keras.models import Sequential\n",
    "from keras.layers.core import Dense\n",
    "from keras.optimizers import RMSprop\n",
    "from mpl_toolkits.mplot3d import Axes3D\n",
    "\n",
    "import mglearn\n",
    "import seaborn as sns\n",
    "from sklearn.preprocessing import LabelEncoder\n",
    "from sklearn.metrics import classification_report, confusion_matrix\n",
    "from sklearn.model_selection import train_test_split\n",
    "from keras.utils import to_categorical\n",
    "from keras.models import Sequential\n",
    "from keras.layers import Dense\n",
    "from keras.optimizers import Adam\n",
    "from keras.layers import Dropout"
   ]
  },
  {
   "cell_type": "markdown",
   "metadata": {},
   "source": [
    "### 데이터 분리\n",
    "\n",
    "1. 수질데이터만 돌릴 경우 정확도 73~75\n",
    "2. 수질데이터 + 쓰레기, 폐수 데이터 80~81\n",
    "3. 2에서 수질계산에 사용되지 않는 항목을 제거 "
   ]
  },
  {
   "cell_type": "code",
   "execution_count": 3,
   "metadata": {},
   "outputs": [],
   "source": [
    "df = pd.read_csv('../../data/team/predict_data3.csv',encoding = 'ANSI')\n",
    "# 정규화\n",
    "mini = df.loc[:,'저층수온':].min()\n",
    "maxi = df.loc[:,'저층수온':].max()\n",
    "df.loc[:,'저층수온':] = (df.loc[:,'저층수온':] - mini)/(maxi-mini)\n",
    "\n",
    "a1 = df[df['해수수질기준']==1].sample(248)\n",
    "a2 = df[df['해수수질기준']==2].sample(248)\n",
    "a3 = df[df['해수수질기준']==3].sample(248)\n",
    "a4 = df[df['해수수질기준']==4].sample(248)\n",
    "a5= df[df['해수수질기준']==5]\n",
    "a5 = pd.concat([a1,a2,a3,a4,a5])\n",
    "df = a5\n",
    "\n",
    "# 데이터셋 분할\n",
    "x = df.iloc[:,3:]\n",
    "y = df.iloc[:,2]\n",
    "Y = pd.get_dummies(y).values\n",
    "x_train, x_test, y_train, y_test = train_test_split(x, Y , test_size = 0.3,\n",
    "                                                    random_state = 1)"
   ]
  },
  {
   "cell_type": "code",
   "execution_count": 6,
   "metadata": {},
   "outputs": [
    {
     "data": {
      "text/plain": [
       "['저층수온',\n",
       " '저층염분',\n",
       " '저층DO',\n",
       " '표층DIN',\n",
       " '표층DIP',\n",
       " '표층Chl-a',\n",
       " '표층투명도',\n",
       " '수거량',\n",
       " '수거량2',\n",
       " '정화면적',\n",
       " '일별처리량',\n",
       " '시설용량(톤/일)(A)',\n",
       " '방류BOD(mg/L)평균',\n",
       " '평균\\n처리효율\\n(%)',\n",
       " '방류COD(mg/L)평균',\n",
       " '방류SS(mg/L)평균',\n",
       " '방류T-N(mg/L)평균',\n",
       " '방류T-P(mg/L)평균',\n",
       " '방류대장균군수(개/mL)평균']"
      ]
     },
     "execution_count": 6,
     "metadata": {},
     "output_type": "execute_result"
    }
   ],
   "source": [
    "list(x_train.columns)"
   ]
  },
  {
   "cell_type": "markdown",
   "metadata": {},
   "source": [
    "\n",
    "### 모델링\n"
   ]
  },
  {
   "cell_type": "code",
   "execution_count": null,
   "metadata": {},
   "outputs": [],
   "source": [
    "# 모델생성\n",
    "\n",
    "model = Sequential()\n",
    "model.add(Dense(200,input_shape=(19,), activation = 'relu'))\n",
    "model.add(Dropout(0.2)) \n",
    "model.add(Dense(200, activation = 'relu'))\n",
    "model.add(Dropout(0.2)) \n",
    "\n",
    "model.add(Dense(5 , activation='softmax'))\n",
    "model.compile(optimizer='adam', loss='categorical_crossentropy', metrics=['accuracy'])\n",
    "model.summary()\n",
    "\n",
    "hist= model.fit(x_train, y_train, epochs=250)"
   ]
  },
  {
   "cell_type": "code",
   "execution_count": 13,
   "metadata": {},
   "outputs": [
    {
     "name": "stdout",
     "output_type": "stream",
     "text": [
      "372/372 [==============================] - 0s 133us/step\n",
      "정확도 = 0.76\n",
      "손실 = 0.75\n"
     ]
    }
   ],
   "source": [
    "# 모델평가\n",
    "loss, accuracy = model.evaluate(x_test, y_test)\n",
    "print('정확도 = {:.2f}'.format(accuracy))\n",
    "print('손실 = {:.2f}'.format(loss))"
   ]
  },
  {
   "cell_type": "code",
   "execution_count": 14,
   "metadata": {},
   "outputs": [
    {
     "name": "stdout",
     "output_type": "stream",
     "text": [
      "372/372 [==============================] - 0s 164us/step\n"
     ]
    },
    {
     "data": {
      "image/png": "[encoded data removed]",
      "text/plain": [
       "<Figure size 720x504 with 2 Axes>"
      ]
     },
     "metadata": {
      "needs_background": "light"
     },
     "output_type": "display_data"
    }
   ],
   "source": [
    "Y_pred = model.predict(x_test, verbose=1)\n",
    "y_pred = np.argmax(Y_pred, axis=1)\n",
    "cm = confusion_matrix(np.argmax(y_test, axis=1), y_pred)\n",
    "df_cm = pd.DataFrame(cm, range(5), range(5))\n",
    "plt.figure(figsize=(10,7))\n",
    "sns.set(font_scale=1.4)\n",
    "sns.heatmap(df_cm, annot=True, annot_kws={'size':12})\n",
    "plt.show()\n",
    "\n",
    "# 수질지수에 사용되는 요인이 포함된 데이터로 돌렸는데 75 % 정도 정확도가 나옴\n",
    "# 히트맵으로 볼 시 오차도 자신보다 1,2단계 낮은 수질로 일부 나오나 극단적으로 못맞추는\n",
    "# 경우는 없음"
   ]
  },
  {
   "cell_type": "code",
   "execution_count": 15,
   "metadata": {},
   "outputs": [],
   "source": [
    "model.save('predict_data3.h5')"
   ]
  },
  {
   "cell_type": "code",
   "execution_count": 11,
   "metadata": {},
   "outputs": [],
   "source": [
    "model = keras.models.load_model('../flask/model/predict_data3.h5')"
   ]
  },
  {
   "cell_type": "code",
   "execution_count": null,
   "metadata": {},
   "outputs": [],
   "source": []
  }
 ],
 "metadata": {
  "kernelspec": {
   "display_name": "Python 3",
   "language": "python",
   "name": "python3"
  },
  "language_info": {
   "codemirror_mode": {
    "name": "ipython",
    "version": 3
   },
   "file_extension": ".py",
   "mimetype": "text/x-python",
   "name": "python",
   "nbconvert_exporter": "python",
   "pygments_lexer": "ipython3",
   "version": "3.7.6"
  }
 },
 "nbformat": 4,
 "nbformat_minor": 4
}
