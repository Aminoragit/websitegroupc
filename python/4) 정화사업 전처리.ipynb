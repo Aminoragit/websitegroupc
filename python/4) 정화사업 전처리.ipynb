{
 "cells": [
  {
   "cell_type": "code",
   "execution_count": 2,
   "metadata": {},
   "outputs": [],
   "source": [
    "import pandas as pd\n",
    "import warnings\n",
    "warnings.filterwarnings('ignore')\n",
    "\n",
    "%matplotlib inline\n",
    "import numpy as np\n",
    "import pandas as pd\n",
    "import matplotlib.pyplot as plt\n",
    "plt.rcParams['font.family'] = 'NanumGothicCoding'\n",
    "plt.rcParams['axes.unicode_minus'] = False\n"
   ]
  },
  {
   "cell_type": "code",
   "execution_count": 3,
   "metadata": {},
   "outputs": [],
   "source": [
    "df = pd.read_csv('../../data/team/Pollution 전처리/해양환경공단_해양폐기물정화사업 현황_20181231.csv', encoding = 'ANSI', engine = 'python')\n",
    "df.to_csv('../../data/team/폐기물정화사업.csv',encoding = 'utf-8',index=False)"
   ]
  },
  {
   "cell_type": "code",
   "execution_count": 4,
   "metadata": {},
   "outputs": [],
   "source": [
    "# 기존 데이터에 정화사업의 면적, 수거물량을 병합\n",
    "df = df.rename(columns={'사업명(위치)':'위치','수거물량 실적(톤)':'수거','정화면적 실적(ha)':'정화면적'})\n",
    "df['정화면적'] = df['정화면적'].astype(float)\n",
    "df['시군'] = '' \n",
    "df['시군'] = df['위치'].str.split(' ').str[0]"
   ]
  },
  {
   "cell_type": "code",
   "execution_count": 5,
   "metadata": {},
   "outputs": [],
   "source": [
    "df_all = pd.read_csv('../../data/team/수질+수거량.csv')\n"
   ]
  },
  {
   "cell_type": "code",
   "execution_count": 6,
   "metadata": {},
   "outputs": [],
   "source": [
    "# 구군의 데이터 중 '섬 진 강'의 형식을 가지는 데이터 전처리 \n",
    "li_a = list(df_all['구군'])\n",
    "li_b = []\n",
    "for i in li_a:\n",
    "    a = i.replace(' ','')\n",
    "    li_b.append(a)\n",
    "df_all['구군'] = li_b"
   ]
  },
  {
   "cell_type": "code",
   "execution_count": null,
   "metadata": {},
   "outputs": [],
   "source": [
    "gu = df_all['구군'].unique()"
   ]
  },
  {
   "cell_type": "code",
   "execution_count": 47,
   "metadata": {},
   "outputs": [],
   "source": [
    "# 기존파일의 생태구역을 먼저 넣은 뒤 부족한 지역을 구군으로 지정해서 넣음\n",
    "# 기준은 해양환경관리법의 기준에 따름\n",
    "for i in range(len(df)):\n",
    "    for j in gu:\n",
    "        if df.loc[i,'위치'].find(j) != -1:\n",
    "            df.loc[i,'생태구역'] = df_all[df_all['구군'] == j]['생태구역'].iloc[0]\n",
    "\n",
    "for i in df[df['생태구역'].isnull()].index:\n",
    "    al = df.loc[i,'위치']\n",
    "    if (al.find('삼천포') != -1)|(al.find('거제') != -1)|(al.find('하동') != -1)|(al.find('경남') != -1):\n",
    "        df.loc[i,'생태구역'] = '대한해협'\n",
    "        \n",
    "    elif (al.find('서천') != -1)|(al.find('당진') != -1)|(al.find('충남') != -1)|(al.find('영종도') != -1)|(al.find('평택') != -1):\n",
    "        df.loc[i,'생태구역'] = '서해중부'\n",
    "        \n",
    "    elif (al.find('당진') != -1)|(al.find('장흥') != -1)|(al.find('전북') != -1)|(al.find('영암') != -1)|(al.find('전남') != -1)|(al.find('흑산도') != -1):\n",
    "        df.loc[i,'생태구역'] = '서남해역'\n",
    "        \n",
    "    elif (al.find('경북') != -1)|(al.find('독도') != -1)|(al.find('포항') != -1):\n",
    "        df.loc[i,'생태구역'] = '동해'"
   ]
  },
  {
   "cell_type": "code",
   "execution_count": 49,
   "metadata": {},
   "outputs": [],
   "source": [
    "# 생태구역별 평균\n",
    "# 시군은 데이터가 적어 년도별 분류가 불가능\n",
    "df1 = df.groupby('시군').mean()\n",
    "df2 = df.groupby(['년도','생태구역']).mean()\n",
    "\n",
    "df1_2 = pd.DataFrame(columns=['년','생태구역','수거량','면적'])\n",
    "idx = 0\n",
    "for i in df2.index:\n",
    "    df1_2.loc[idx,'년'] = i[0]\n",
    "    df1_2.loc[idx,'생태구역'] = i[1]\n",
    "    df1_2.loc[idx,'수거량'] = df2.loc[i[0],i[1]][0]\n",
    "    df1_2.loc[idx,'면적'] = df2.loc[i[0],i[1]][1]\n",
    "    idx +=1"
   ]
  },
  {
   "cell_type": "code",
   "execution_count": 50,
   "metadata": {},
   "outputs": [],
   "source": [
    "# 다른 해협은 15~18년도 자료가 있으나 제주도는 16,17년도 자료가 없음\n",
    "# 이를 해결하기 위해서 평균값으로 널값 채움\n",
    "avg = df1_2[df1_2['생태구역'] == '제주'].mean()\n",
    "df1_2['년'] = df1_2['년'].astype(float)\n",
    "\n",
    "df1_2.loc[18] = [2016,'제주',avg[1], avg[2]]\n",
    "df1_2.loc[19] = [2017,'제주',avg[1], avg[2]]"
   ]
  },
  {
   "cell_type": "code",
   "execution_count": null,
   "metadata": {},
   "outputs": [],
   "source": [
    "df_all['수거량2']=''\n",
    "df_all['정화면적']=''\n",
    "\n",
    "# 생태구역을 기준\n",
    "for i in df_all.index:\n",
    "    \n",
    "    year = round(df_all.loc[i,'년월']/100)\n",
    "    area = df_all.loc[i,'생태구역'] \n",
    "    \n",
    "    for j in df1_2['년'].unique():\n",
    "        for z in df1_2['생태구역'].unique():\n",
    "            if (year==j)&(area==z):\n",
    "                tem = df1_2[(df1_2['년'] ==j)&(df1_2['생태구역']==z)]\n",
    "                df_all.loc[i,'수거량2'] = tem['수거량'].iloc[0]\n",
    "                df_all.loc[i,'정화면적'] = tem['면적'].iloc[0]\n",
    "      "
   ]
  },
  {
   "cell_type": "code",
   "execution_count": 68,
   "metadata": {},
   "outputs": [],
   "source": [
    "       \n",
    "# 구군을 기준    \n",
    "for i in df_all.index:\n",
    "    year = int(df_all.loc[i,'년월']/100)\n",
    "    area = df_all.loc[i,'구군'] \n",
    "    for j in df.index:\n",
    "        # 기존데이터의 구군이 정화사업데이터의 위치에 있을 경우\n",
    "        if (year == df.loc[j,'년도'])&(df.loc[j,'위치'].find(area) != -1):\n",
    "            df_all.loc[i,'수거량2'] = df.loc[j,'수거']\n",
    "            df_all.loc[i,'정화면적'] = df.loc[j,'정화면적']   \n",
    "            break\n",
    "            "
   ]
  },
  {
   "cell_type": "code",
   "execution_count": 75,
   "metadata": {},
   "outputs": [],
   "source": [
    "df_all.to_csv('../../data/team/수질+수거량+정화.csv', encoding='utf-8', index=False)\n",
    "df_all.to_csv('../../data/team/수질+수거량+정화_R.csv', encoding='ANSI', index=False)"
   ]
  },
  {
   "cell_type": "code",
   "execution_count": null,
   "metadata": {},
   "outputs": [],
   "source": []
  }
 ],
 "metadata": {
  "kernelspec": {
   "display_name": "Python 3",
   "language": "python",
   "name": "python3"
  },
  "language_info": {
   "codemirror_mode": {
    "name": "ipython",
    "version": 3
   },
   "file_extension": ".py",
   "mimetype": "text/x-python",
   "name": "python",
   "nbconvert_exporter": "python",
   "pygments_lexer": "ipython3",
   "version": "3.7.6"
  }
 },
 "nbformat": 4,
 "nbformat_minor": 4
}
