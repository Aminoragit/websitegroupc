{
 "cells": [
  {
   "cell_type": "code",
   "execution_count": 1,
   "metadata": {},
   "outputs": [],
   "source": [
    "import numpy as np\n",
    "import pandas as pd\n",
    "from plotnine import *\n",
    "import matplotlib.pyplot as plt\n",
    "import warnings\n",
    "warnings.filterwarnings('ignore')\n",
    "from glob import glob\n",
    "plt.rcParams['font.family'] = 'NanumGothicCoding'\n",
    "plt.rcParams['axes.unicode_minus'] = False"
   ]
  },
  {
   "cell_type": "code",
   "execution_count": 3,
   "metadata": {},
   "outputs": [],
   "source": [
    "# 수질정보의 년도는 2,5,8,11 로 구성되어 있음\n",
    "# 부유물수거량 데이터의 작업일은 연속값\n",
    "# 수질정보의 년도에 데이터를 넣기 위해 연속값을 카테고리시키는 작업\n",
    "df = pd.read_csv('../../data/team/해양환경측정망_합본_2.csv')\n",
    "df1 = pd.read_csv('../../data/team/classify_area.csv')\n",
    "\n",
    "df2 = df1[df1['작업일'] > 20141131]\n",
    "df2['년월'] = ''\n",
    "for j in range(0,39999,10000):\n",
    "    for i in range(0,1119,300) :\n",
    "        # 12~2월 데이터를 넣기 때문에 if문으로 년도가 바뀌는 것을 구분해줌\n",
    "        if i == 0:\n",
    "            a = df2[(df2['작업일']< 20150331+i+j)&(df2['작업일'] >= 20141201+j)]\n",
    "        else:\n",
    "            a = df2[(df2['작업일']< 20150231+i+j)&(df2['작업일'] >= 20149901+i+j)]\n",
    "        for z in a.index:\n",
    "            df2.loc[z,'년월'] = round((20150201+i+j)/100)\n",
    "            \n",
    "df2['작업일'] = df2['년월']\n",
    "df2 = df2.drop('년월', axis=1)\n",
    "mean = df2.groupby(['작업일','지역'])['수거량'].mean()\n",
    "mean1 = df2.groupby(['작업일','생태구역'])['수거량'].mean()"
   ]
  },
  {
   "cell_type": "code",
   "execution_count": 7,
   "metadata": {},
   "outputs": [],
   "source": [
    "df3 = pd.DataFrame(data=[[1,2,3]],columns=['년월','지역','수거량'])\n",
    "a = 0\n",
    "for i in mean.index:\n",
    "    # 멀티인덱스이기 때문에 하나씩 호출, 단일인덱스 변환\n",
    "    df3.loc[a,'년월'] = i[0]\n",
    "    df3.loc[a,'지역'] = i[1]\n",
    "    df3.loc[a,'수거량'] = mean[i]\n",
    "    a +=1\n",
    "    \n",
    "append_l = pd.DataFrame(data=[[1,2,3]],columns=['년월','생태구역','수거량'])\n",
    "a= 0\n",
    "for i in mean1.index:\n",
    "    append_l.loc[a,'년월'] = i[0]\n",
    "    append_l.loc[a,'생태구역'] = i[1]\n",
    "    append_l.loc[a,'수거량'] = mean1[i]\n",
    "    a +=1"
   ]
  },
  {
   "cell_type": "code",
   "execution_count": 9,
   "metadata": {},
   "outputs": [],
   "source": [
    "ym = df[['년','월']].astype(float)\n",
    "ym1 = ym['년']*100\n",
    "ym2 = ym1+ym['월']\n",
    "\n",
    "df['년'] = ym2\n",
    "df = df.drop(['월'],axis=1)\n",
    "# 부유물데이터는 19년도가 없기 때문에 제거함\n",
    "df.rename(columns={'년':'년월'}, inplace=True)\n",
    "df = df[df['년월'] <201901]"
   ]
  },
  {
   "cell_type": "code",
   "execution_count": 11,
   "metadata": {},
   "outputs": [],
   "source": [
    "df['수거량'] = ''\n",
    "index_l = df.index\n",
    "area_1 = df3['지역'].unique()\n",
    "area_2 = append_l['생태구역'].unique()\n",
    "\n",
    "# 전체데이터의 인덱스를 통해서 년도, 지역에 맞는 데이터를 넣어줌\n",
    "for i in index_l:\n",
    "    for j in area_2:\n",
    "        if df.loc[i,'생태구역'] == j:\n",
    "            y = df.loc[i,'년월']\n",
    "            trash = append_l[(append_l['년월'] == y)&(append_l['생태구역'] == j)]['수거량'].iloc[0]\n",
    "            df.loc[i,'수거량'] = trash\n",
    "\n",
    "for i in index_l:\n",
    "    for j in area_1:\n",
    "        if df.loc[i,'구군'] == j:\n",
    "            y = df.loc[i,'년월']\n",
    "            trash = df3[(df3['년월'] == y)&(df3['지역'] == j)]['수거량'].iloc[0]\n",
    "            df.loc[i,'수거량'] = trash\n",
    "        "
   ]
  },
  {
   "cell_type": "code",
   "execution_count": 12,
   "metadata": {},
   "outputs": [],
   "source": [
    "df.to_csv('../../data/team/수질+수거량.csv', index=False, encoding='utf-8')\n",
    "df.to_csv('../../data/team/수질+수거량_R.csv', index=False, encoding='ANSI')"
   ]
  },
  {
   "cell_type": "code",
   "execution_count": null,
   "metadata": {},
   "outputs": [],
   "source": []
  }
 ],
 "metadata": {
  "kernelspec": {
   "display_name": "Python 3",
   "language": "python",
   "name": "python3"
  },
  "language_info": {
   "codemirror_mode": {
    "name": "ipython",
    "version": 3
   },
   "file_extension": ".py",
   "mimetype": "text/x-python",
   "name": "python",
   "nbconvert_exporter": "python",
   "pygments_lexer": "ipython3",
   "version": "3.7.6"
  }
 },
 "nbformat": 4,
 "nbformat_minor": 4
}
